{
 "cells": [
  {
   "cell_type": "code",
   "execution_count": null,
   "metadata": {},
   "outputs": [
    {
     "name": "stdout",
     "output_type": "stream",
     "text": [
      "Hello, world!\n",
      "Hello, world!\n",
      "13\n",
      "user\n",
      "Hello\n",
      "test.jpg\n"
     ]
    }
   ],
   "source": [
    "from easyagent.messages import TextMessage, ImageMessage"
   ]
  },
  {
   "cell_type": "code",
   "execution_count": null,
   "metadata": {},
   "outputs": [],
   "source": [
    "text_message = TextMessage(\"Hello, world!\", source=\"user\")\n",
    "print(text_message)"
   ]
  },
  {
   "cell_type": "code",
   "execution_count": null,
   "metadata": {},
   "outputs": [],
   "source": [
    "msg1 = TextMessage(\"Hello, \", source=\"user\")\n",
    "msg2 = TextMessage(\"world!\", source=\"user\")\n",
    "combined_msg = msg1 + msg2\n",
    "print(combined_msg)\n",
    "print(len(combined_msg))\n",
    "print(combined_msg.source)\n",
    "print(combined_msg[0: 5])"
   ]
  },
  {
   "cell_type": "code",
   "execution_count": null,
   "metadata": {},
   "outputs": [],
   "source": [
    "img = ImageMessage(\"test.jpg\", source=\"user\")\n",
    "print(img)\n",
    "img.show()"
   ]
  }
 ],
 "metadata": {
  "kernelspec": {
   "display_name": ".venv",
   "language": "python",
   "name": "python3"
  },
  "language_info": {
   "codemirror_mode": {
    "name": "ipython",
    "version": 3
   },
   "file_extension": ".py",
   "mimetype": "text/x-python",
   "name": "python",
   "nbconvert_exporter": "python",
   "pygments_lexer": "ipython3",
   "version": "3.12.4"
  }
 },
 "nbformat": 4,
 "nbformat_minor": 2
}
